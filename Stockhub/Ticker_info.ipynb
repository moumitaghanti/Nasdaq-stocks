{
 "cells": [
  {
   "cell_type": "code",
   "execution_count": 1,
   "metadata": {},
   "outputs": [],
   "source": [
    "import pandas as pd "
   ]
  },
  {
   "cell_type": "code",
   "execution_count": 2,
   "metadata": {},
   "outputs": [],
   "source": [
    "from datapackage import Package\n",
    "\n",
    "package = Package('https://datahub.io/core/s-and-p-500-companies/datapackage.json')\n",
    "\n",
    "# print list of all resources:\n",
    "#print(package.resource_names)\n",
    "\n",
    "# print processed tabular data (if exists any)\n",
    "ticker = []\n",
    "ticker_val =[]\n",
    "company_name = []\n",
    "company_type = []\n",
    "for resource in package.resources:\n",
    "    if resource.descriptor['datahub']['type'] == 'derived/csv':\n",
    "        #print(resource.read()[0])\n",
    "        ticker.append(resource.read())\n",
    "       \n",
    "\n",
    "\n",
    "    \n",
    "for tick in ticker:\n",
    "    for  i in range(0,len(tick)):\n",
    "        \n",
    "        ticker_val.append(tick[i][0])\n",
    "        company_name.append(tick[i][1])\n",
    "        company_type.append(tick[i][2])\n",
    "        \n",
    "        \n",
    "company_type        \n",
    "            \n",
    "tick_dict =   {'Ticker': ticker_val, 'Company Name': company_name, 'Company Type': company_type}    \n"
   ]
  },
  {
   "cell_type": "code",
   "execution_count": 3,
   "metadata": {},
   "outputs": [
    {
     "data": {
      "text/plain": [
       "array(['Industrials', 'Health Care', 'Information Technology',\n",
       "       'Consumer Discretionary', 'Utilities', 'Financials', 'Materials',\n",
       "       'Real Estate', 'Consumer Staples', 'Energy',\n",
       "       'Telecommunication Services'], dtype=object)"
      ]
     },
     "execution_count": 3,
     "metadata": {},
     "output_type": "execute_result"
    }
   ],
   "source": [
    "ticker_df = pd.DataFrame(tick_dict) \n",
    "ticker_df\n",
    "ticker_df['Company Type'].unique()"
   ]
  },
  {
   "cell_type": "code",
   "execution_count": 62,
   "metadata": {},
   "outputs": [],
   "source": [
    "ticker_df.to_csv('Ticker_simple_info.csv')"
   ]
  }
 ],
 "metadata": {
  "kernelspec": {
   "display_name": "Python 3",
   "language": "python",
   "name": "python3"
  },
  "language_info": {
   "codemirror_mode": {
    "name": "ipython",
    "version": 3
   },
   "file_extension": ".py",
   "mimetype": "text/x-python",
   "name": "python",
   "nbconvert_exporter": "python",
   "pygments_lexer": "ipython3",
   "version": "3.7.3"
  }
 },
 "nbformat": 4,
 "nbformat_minor": 2
}
