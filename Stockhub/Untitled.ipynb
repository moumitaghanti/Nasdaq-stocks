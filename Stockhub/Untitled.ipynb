{
 "cells": [
  {
   "cell_type": "code",
   "execution_count": 2,
   "metadata": {},
   "outputs": [],
   "source": [
    "import pandas as pd\n",
    "from pandas.plotting import scatter_matrix\n",
    "import datetime\n",
    "import pandas_datareader.data as web\n",
    "from pandas import Series, DataFrame\n"
   ]
  },
  {
   "cell_type": "code",
   "execution_count": 19,
   "metadata": {
    "scrolled": false
   },
   "outputs": [
    {
     "data": {
      "text/html": [
       "<div>\n",
       "<style scoped>\n",
       "    .dataframe tbody tr th:only-of-type {\n",
       "        vertical-align: middle;\n",
       "    }\n",
       "\n",
       "    .dataframe tbody tr th {\n",
       "        vertical-align: top;\n",
       "    }\n",
       "\n",
       "    .dataframe thead th {\n",
       "        text-align: right;\n",
       "    }\n",
       "</style>\n",
       "<table border=\"1\" class=\"dataframe\">\n",
       "  <thead>\n",
       "    <tr style=\"text-align: right;\">\n",
       "      <th></th>\n",
       "      <th>High</th>\n",
       "      <th>Low</th>\n",
       "      <th>Open</th>\n",
       "      <th>Close</th>\n",
       "      <th>Volume</th>\n",
       "      <th>Adj Close</th>\n",
       "    </tr>\n",
       "    <tr>\n",
       "      <th>Date</th>\n",
       "      <th></th>\n",
       "      <th></th>\n",
       "      <th></th>\n",
       "      <th></th>\n",
       "      <th></th>\n",
       "      <th></th>\n",
       "    </tr>\n",
       "  </thead>\n",
       "  <tbody>\n",
       "    <tr>\n",
       "      <th>2019-11-08</th>\n",
       "      <td>8475.570312</td>\n",
       "      <td>8405.889648</td>\n",
       "      <td>8422.669922</td>\n",
       "      <td>8475.309570</td>\n",
       "      <td>1974190000</td>\n",
       "      <td>8475.309570</td>\n",
       "    </tr>\n",
       "    <tr>\n",
       "      <th>2019-11-08</th>\n",
       "      <td>3093.090088</td>\n",
       "      <td>3073.580078</td>\n",
       "      <td>3081.250000</td>\n",
       "      <td>3093.080078</td>\n",
       "      <td>3499150000</td>\n",
       "      <td>3093.080078</td>\n",
       "    </tr>\n",
       "    <tr>\n",
       "      <th>2019-11-08</th>\n",
       "      <td>27694.949219</td>\n",
       "      <td>27578.970703</td>\n",
       "      <td>27686.199219</td>\n",
       "      <td>27681.240234</td>\n",
       "      <td>221440000</td>\n",
       "      <td>27681.240234</td>\n",
       "    </tr>\n",
       "  </tbody>\n",
       "</table>\n",
       "</div>"
      ],
      "text/plain": [
       "                    High           Low          Open         Close  \\\n",
       "Date                                                                 \n",
       "2019-11-08   8475.570312   8405.889648   8422.669922   8475.309570   \n",
       "2019-11-08   3093.090088   3073.580078   3081.250000   3093.080078   \n",
       "2019-11-08  27694.949219  27578.970703  27686.199219  27681.240234   \n",
       "\n",
       "                Volume     Adj Close  \n",
       "Date                                  \n",
       "2019-11-08  1974190000   8475.309570  \n",
       "2019-11-08  3499150000   3093.080078  \n",
       "2019-11-08   221440000  27681.240234  "
      ]
     },
     "execution_count": 19,
     "metadata": {},
     "output_type": "execute_result"
    }
   ],
   "source": [
    "nasdacdf= web.DataReader('^IXIC','yahoo').tail(1)\n",
    "spdf = web.DataReader('^GSPC','yahoo').tail(1)\n",
    "djdf = web.DataReader('^DJI','yahoo').tail(1)\n",
    "totaldf = pd.concat([nasdacdf,spdf,djdf],axis=0, sort=False)\n",
    "totaldf"
   ]
  }
 ],
 "metadata": {
  "kernelspec": {
   "display_name": "Python 3",
   "language": "python",
   "name": "python3"
  },
  "language_info": {
   "codemirror_mode": {
    "name": "ipython",
    "version": 3
   },
   "file_extension": ".py",
   "mimetype": "text/x-python",
   "name": "python",
   "nbconvert_exporter": "python",
   "pygments_lexer": "ipython3",
   "version": "3.7.3"
  }
 },
 "nbformat": 4,
 "nbformat_minor": 2
}
